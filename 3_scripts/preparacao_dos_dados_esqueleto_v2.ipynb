{
  "cells": [
    {
      "cell_type": "markdown",
      "metadata": {
        "id": "zCrOM9PBUD9n"
      },
      "source": [
        "# Importando as bibliotecas"
      ]
    },
    {
      "cell_type": "code",
      "execution_count": 2,
      "metadata": {
        "id": "95s4x45JUD9r"
      },
      "outputs": [],
      "source": [
        "import pandas as pd\n",
        "import numpy as np\n",
        "import plotly.express as px\n",
        "# import missingno as msno\n",
        "# import matplotlib as mlp\n",
        "# import seaborn as sns"
      ]
    },
    {
      "cell_type": "markdown",
      "metadata": {
        "id": "tIonp_wfUD9t"
      },
      "source": [
        "# Importando as bases de dados"
      ]
    },
    {
      "attachments": {},
      "cell_type": "markdown",
      "metadata": {
        "id": "Y3WlvR5nUD9t"
      },
      "source": [
        "## Base de dados\n",
        "\n",
        "Base de dados loja de jogos on-line."
      ]
    },
    {
      "cell_type": "code",
      "execution_count": 3,
      "metadata": {
        "id": "eQdgzuEPUD9x",
        "outputId": "a7c8eeb8-f055-42de-fe88-dcff4ff30c31"
      },
      "outputs": [],
      "source": [
        "dados = pd.DataFrame(pd.read_csv(\"../0_bases_originais/original.csv\"))"
      ]
    },
    {
      "cell_type": "code",
      "execution_count": 4,
      "metadata": {},
      "outputs": [
        {
          "data": {
            "text/html": [
              "<div>\n",
              "<style scoped>\n",
              "    .dataframe tbody tr th:only-of-type {\n",
              "        vertical-align: middle;\n",
              "    }\n",
              "\n",
              "    .dataframe tbody tr th {\n",
              "        vertical-align: top;\n",
              "    }\n",
              "\n",
              "    .dataframe thead th {\n",
              "        text-align: right;\n",
              "    }\n",
              "</style>\n",
              "<table border=\"1\" class=\"dataframe\">\n",
              "  <thead>\n",
              "    <tr style=\"text-align: right;\">\n",
              "      <th></th>\n",
              "      <th>nome</th>\n",
              "      <th>porcentagem_desconto</th>\n",
              "      <th>preço</th>\n",
              "      <th>tipo</th>\n",
              "    </tr>\n",
              "  </thead>\n",
              "  <tbody>\n",
              "    <tr>\n",
              "      <th>0</th>\n",
              "      <td>Resident Evil 4</td>\n",
              "      <td>-12%</td>\n",
              "      <td>R$ 218,99</td>\n",
              "      <td>Padrão</td>\n",
              "    </tr>\n",
              "    <tr>\n",
              "      <th>1</th>\n",
              "      <td>Star Wars Empire at War - Gold Pack</td>\n",
              "      <td>0</td>\n",
              "      <td>R$ 37,99</td>\n",
              "      <td>Padrão</td>\n",
              "    </tr>\n",
              "    <tr>\n",
              "      <th>2</th>\n",
              "      <td>LEGO Indiana Jones: The Original Adventures</td>\n",
              "      <td>0</td>\n",
              "      <td>R$ 37,99</td>\n",
              "      <td>Padrão</td>\n",
              "    </tr>\n",
              "    <tr>\n",
              "      <th>3</th>\n",
              "      <td>Fallout Classic Collection</td>\n",
              "      <td>0</td>\n",
              "      <td>Indisponivel</td>\n",
              "      <td>Pacote</td>\n",
              "    </tr>\n",
              "    <tr>\n",
              "      <th>4</th>\n",
              "      <td>LEGO Indiana Jones 2: The Adventure Continues</td>\n",
              "      <td>0</td>\n",
              "      <td>R$ 37,99</td>\n",
              "      <td>Padrão</td>\n",
              "    </tr>\n",
              "    <tr>\n",
              "      <th>...</th>\n",
              "      <td>...</td>\n",
              "      <td>...</td>\n",
              "      <td>...</td>\n",
              "      <td>...</td>\n",
              "    </tr>\n",
              "    <tr>\n",
              "      <th>95</th>\n",
              "      <td>Naruto Shippuden: Ultimate Ninja STORM Revolution</td>\n",
              "      <td>-85%</td>\n",
              "      <td>R$ 8,39</td>\n",
              "      <td>Padrão</td>\n",
              "    </tr>\n",
              "    <tr>\n",
              "      <th>96</th>\n",
              "      <td>Resident Evil Revelations</td>\n",
              "      <td>0</td>\n",
              "      <td>R$ 59,99</td>\n",
              "      <td>Padrão</td>\n",
              "    </tr>\n",
              "    <tr>\n",
              "      <th>97</th>\n",
              "      <td>Enigma do Medo</td>\n",
              "      <td>-9%</td>\n",
              "      <td>R$ 49,99</td>\n",
              "      <td>Pré-Venda</td>\n",
              "    </tr>\n",
              "    <tr>\n",
              "      <th>98</th>\n",
              "      <td>Xbox - Cartão Presente Digital 70 Reais</td>\n",
              "      <td>0</td>\n",
              "      <td>R$ 70,00</td>\n",
              "      <td>Padrão</td>\n",
              "    </tr>\n",
              "    <tr>\n",
              "      <th>99</th>\n",
              "      <td>Xbox - Cartão Presente Digital 40 Reais</td>\n",
              "      <td>0</td>\n",
              "      <td>R$ 40,00</td>\n",
              "      <td>Padrão</td>\n",
              "    </tr>\n",
              "  </tbody>\n",
              "</table>\n",
              "<p>100 rows × 4 columns</p>\n",
              "</div>"
            ],
            "text/plain": [
              "                                                 nome porcentagem_desconto  \\\n",
              "0                                     Resident Evil 4                 -12%   \n",
              "1                 Star Wars Empire at War - Gold Pack                    0   \n",
              "2         LEGO Indiana Jones: The Original Adventures                    0   \n",
              "3                          Fallout Classic Collection                    0   \n",
              "4       LEGO Indiana Jones 2: The Adventure Continues                    0   \n",
              "..                                                ...                  ...   \n",
              "95  Naruto Shippuden: Ultimate Ninja STORM Revolution                 -85%   \n",
              "96                          Resident Evil Revelations                    0   \n",
              "97                                     Enigma do Medo                  -9%   \n",
              "98            Xbox - Cartão Presente Digital 70 Reais                    0   \n",
              "99            Xbox - Cartão Presente Digital 40 Reais                    0   \n",
              "\n",
              "           preço       tipo  \n",
              "0      R$ 218,99     Padrão  \n",
              "1       R$ 37,99     Padrão  \n",
              "2       R$ 37,99     Padrão  \n",
              "3   Indisponivel     Pacote  \n",
              "4       R$ 37,99     Padrão  \n",
              "..           ...        ...  \n",
              "95       R$ 8,39     Padrão  \n",
              "96      R$ 59,99     Padrão  \n",
              "97      R$ 49,99  Pré-Venda  \n",
              "98      R$ 70,00     Padrão  \n",
              "99      R$ 40,00     Padrão  \n",
              "\n",
              "[100 rows x 4 columns]"
            ]
          },
          "execution_count": 4,
          "metadata": {},
          "output_type": "execute_result"
        }
      ],
      "source": [
        "dados"
      ]
    },
    {
      "cell_type": "code",
      "execution_count": 5,
      "metadata": {
        "id": "FfBaJC4_UD9x",
        "outputId": "54f2be87-0ab8-40b5-b9b6-e8d8bc2bc85e"
      },
      "outputs": [
        {
          "data": {
            "text/plain": [
              "(100, 4)"
            ]
          },
          "execution_count": 5,
          "metadata": {},
          "output_type": "execute_result"
        }
      ],
      "source": [
        "# verificando o tamanho da base em linhas e colunas\n",
        "dados.shape"
      ]
    },
    {
      "cell_type": "markdown",
      "metadata": {
        "id": "RgZDahgnUD9y"
      },
      "source": [
        "# Primeiros tratamentos"
      ]
    },
    {
      "cell_type": "markdown",
      "metadata": {
        "id": "fQNgwCNZUD9y"
      },
      "source": [
        "## Resetando o index e eliminando os duplicados"
      ]
    },
    {
      "cell_type": "code",
      "execution_count": 6,
      "metadata": {
        "id": "tdpEj27SUD9y",
        "outputId": "a580b20c-aa57-4920-8f51-38a2d1501554"
      },
      "outputs": [
        {
          "data": {
            "text/plain": [
              "0     1\n",
              "63    1\n",
              "73    1\n",
              "72    1\n",
              "71    1\n",
              "     ..\n",
              "30    1\n",
              "29    1\n",
              "28    1\n",
              "27    1\n",
              "99    1\n",
              "Length: 100, dtype: int64"
            ]
          },
          "execution_count": 6,
          "metadata": {},
          "output_type": "execute_result"
        }
      ],
      "source": [
        "dados.index.value_counts()"
      ]
    },
    {
      "cell_type": "code",
      "execution_count": 7,
      "metadata": {
        "id": "eXjCpJGuUD9z",
        "outputId": "0dd3b99f-9eb8-4936-9226-e5f0e8d641ef"
      },
      "outputs": [
        {
          "data": {
            "text/plain": [
              "0     1\n",
              "63    1\n",
              "73    1\n",
              "72    1\n",
              "71    1\n",
              "     ..\n",
              "30    1\n",
              "29    1\n",
              "28    1\n",
              "27    1\n",
              "99    1\n",
              "Length: 100, dtype: int64"
            ]
          },
          "execution_count": 7,
          "metadata": {},
          "output_type": "execute_result"
        }
      ],
      "source": [
        "dados.reset_index(drop=True).index.value_counts()"
      ]
    },
    {
      "cell_type": "code",
      "execution_count": 8,
      "metadata": {
        "id": "l9H79DObUD9z",
        "outputId": "c824e26d-dc5c-477e-c1e6-c452a39a95ce"
      },
      "outputs": [
        {
          "data": {
            "text/plain": [
              "0"
            ]
          },
          "execution_count": 8,
          "metadata": {},
          "output_type": "execute_result"
        }
      ],
      "source": [
        "dados.duplicated().sum()"
      ]
    },
    {
      "cell_type": "code",
      "execution_count": 9,
      "metadata": {
        "id": "yZXazjhDUD9z"
      },
      "outputs": [
        {
          "data": {
            "text/html": [
              "<div>\n",
              "<style scoped>\n",
              "    .dataframe tbody tr th:only-of-type {\n",
              "        vertical-align: middle;\n",
              "    }\n",
              "\n",
              "    .dataframe tbody tr th {\n",
              "        vertical-align: top;\n",
              "    }\n",
              "\n",
              "    .dataframe thead th {\n",
              "        text-align: right;\n",
              "    }\n",
              "</style>\n",
              "<table border=\"1\" class=\"dataframe\">\n",
              "  <thead>\n",
              "    <tr style=\"text-align: right;\">\n",
              "      <th></th>\n",
              "      <th>nome</th>\n",
              "      <th>porcentagem_desconto</th>\n",
              "      <th>preço</th>\n",
              "      <th>tipo</th>\n",
              "    </tr>\n",
              "  </thead>\n",
              "  <tbody>\n",
              "  </tbody>\n",
              "</table>\n",
              "</div>"
            ],
            "text/plain": [
              "Empty DataFrame\n",
              "Columns: [nome, porcentagem_desconto, preço, tipo]\n",
              "Index: []"
            ]
          },
          "execution_count": 9,
          "metadata": {},
          "output_type": "execute_result"
        }
      ],
      "source": [
        "dados.loc[dados.nome.duplicated()==True]"
      ]
    },
    {
      "cell_type": "code",
      "execution_count": 10,
      "metadata": {
        "id": "AG0-ZCVKUD9z",
        "outputId": "5a576f05-34c3-4e4a-fc98-171091262437"
      },
      "outputs": [
        {
          "data": {
            "text/plain": [
              "(100, 4)"
            ]
          },
          "execution_count": 10,
          "metadata": {},
          "output_type": "execute_result"
        }
      ],
      "source": [
        "# criando um novo objeto dados, resetando o index do objeto anterior e eliminando duplicados\n",
        "dados = dados.reset_index(drop=True).drop_duplicates()\n",
        "dados.shape"
      ]
    },
    {
      "cell_type": "markdown",
      "metadata": {
        "id": "LRUyDmrUUD90"
      },
      "source": [
        "## Retirando variáveis\n",
        "\n",
        "No pandas, utilizamos o comando .drop para eliminar as colunas que não pretendemos trabalhar."
      ]
    },
    {
      "cell_type": "code",
      "execution_count": 11,
      "metadata": {
        "id": "Q_B9AnhkUD90"
      },
      "outputs": [],
      "source": [
        "#Não será necessário remoção de colunas"
      ]
    },
    {
      "cell_type": "markdown",
      "metadata": {
        "id": "kQRUrdcOUD90"
      },
      "source": [
        "## Editando os nomes das colunas"
      ]
    },
    {
      "cell_type": "markdown",
      "metadata": {
        "id": "sG_VPvzPUD90"
      },
      "source": [
        "### Nomes das colunas em minusculo"
      ]
    },
    {
      "cell_type": "code",
      "execution_count": 12,
      "metadata": {
        "id": "HRD8WPWJUD90",
        "outputId": "83a3f97c-05f8-45f9-e3f5-c7e23cc8f85f"
      },
      "outputs": [
        {
          "data": {
            "text/plain": [
              "Index(['nome', 'porcentagem_desconto', 'preço', 'tipo'], dtype='object')"
            ]
          },
          "execution_count": 12,
          "metadata": {},
          "output_type": "execute_result"
        }
      ],
      "source": [
        "dados.columns"
      ]
    },
    {
      "cell_type": "code",
      "execution_count": 13,
      "metadata": {
        "id": "bbth0O0RUD91"
      },
      "outputs": [],
      "source": [
        "dados.columns = dados.columns.str.lower()"
      ]
    },
    {
      "cell_type": "markdown",
      "metadata": {
        "id": "uEdkwKDUUD91"
      },
      "source": [
        "### Substituindo caracteres especiais das colunas"
      ]
    },
    {
      "cell_type": "code",
      "execution_count": 14,
      "metadata": {
        "id": "26EznS_qUD91"
      },
      "outputs": [],
      "source": [
        "dados.columns = dados.columns.str.replace('ç', 'c')"
      ]
    },
    {
      "cell_type": "code",
      "execution_count": 15,
      "metadata": {
        "id": "GyT9iAVZUD91",
        "outputId": "da4b39a8-e0d3-4064-ec3b-e70ae9a560c0"
      },
      "outputs": [
        {
          "data": {
            "text/plain": [
              "Index(['nome', 'porcentagem_desconto', 'preco', 'tipo'], dtype='object')"
            ]
          },
          "execution_count": 15,
          "metadata": {},
          "output_type": "execute_result"
        }
      ],
      "source": [
        "dados.columns"
      ]
    },
    {
      "cell_type": "markdown",
      "metadata": {
        "id": "YKGeg9bkUD91"
      },
      "source": [
        "### Substituindo caracteres especiais das linhas de colunas específicas"
      ]
    },
    {
      "cell_type": "code",
      "execution_count": 16,
      "metadata": {
        "id": "_BbymMu4UD92",
        "outputId": "8e45ae0d-11a7-471a-f668-093ad70976aa"
      },
      "outputs": [
        {
          "name": "stderr",
          "output_type": "stream",
          "text": [
            "/var/folders/8x/pgz7jkdx7bs0zwwqtp4pglv00000gn/T/ipykernel_67832/1570654488.py:1: FutureWarning: The default value of regex will change from True to False in a future version.\n",
            "  dados.preco=dados.preco.str.replace('\\W','')\n"
          ]
        }
      ],
      "source": [
        "dados.preco=dados.preco.str.replace('\\W','')\n",
        "dados.preco=dados.preco.str.replace('R','')"
      ]
    },
    {
      "cell_type": "markdown",
      "metadata": {
        "id": "ZAJD7HDPUD92"
      },
      "source": [
        "### Substituindo caracteres especiais de toda a base de dados"
      ]
    },
    {
      "cell_type": "code",
      "execution_count": 17,
      "metadata": {
        "id": "jcx_lqgUUD92"
      },
      "outputs": [],
      "source": [
        "dados = dados.replace({'á':'a','ã':'a', 'â':'a', 'í':'i',\n",
        "                # '\\W':'',\n",
        "                ':' : '',\n",
        "                '-' : '',\n",
        "                \"’\" : \"\",\n",
        "                \"'\" : \"\",\n",
        "                \"/\" : \"\",\n",
        "                \"%\" : \"\",\n",
        "                'ÅŸ':'s',\n",
        "                'Ä°':'I',\n",
        "                'Ä±':'i',\n",
        "                'Ã¶':'o',\n",
        "                'Ã§':'c',\n",
        "                'ÄŸ':'g',\n",
        "                'Ã¼':'u',\n",
        "                'Ã©':'e',\n",
        "                'Ã¡':'a',\n",
        "                'Ã³':'o',\n",
        "                'Ã±':'nh',\n",
        "                '&':'',\n",
        "                'Ã…Ë†':'n',\n",
        "                'Ã§':'c',\n",
        "                'Ã­':'i',\n",
        "                'Ã£':'a',\n",
        "                'Ãº':'u',\n",
        "                'Ã':'a',\n",
        "                'Ãª':'e',\n",
        "                'Ã‘':'N',\n",
        "                'aÂ¢':'a',\n",
        "                'aÂª':'e',\n",
        "                'aÂ':'a',\n",
        "                \"á\":\"a\",\n",
        "                \"é\":\"e\",\n",
        "                \"í\":\"i\",\n",
        "                \"ó\":\"o\",\n",
        "                \"ú\":\"u\",\n",
        "                \"ã\":\"a\",\n",
        "                \"õ\":\"o\",\n",
        "                \"aª\":\"e\",\n",
        "                \"á\":\"a\",\n",
        "                \"é\":\"e\",\n",
        "                \"í\":\"i\",\n",
        "                \"ó\":\"o\",\n",
        "                \"ú\":\"u\",\n",
        "                \"ã\":\"a\",\n",
        "                \"õ\":\"o\",\n",
        "                \"ê\":\"e\",\n",
        "                \"â\":\"a\",\n",
        "                \"ô\":\"o\",\n",
        "                \"ê\":\"e\",\n",
        "                \"â\":\"a\",\n",
        "                \"ô\":\"o\"               \n",
        "              }, regex=True)"
      ]
    },
    {
      "attachments": {},
      "cell_type": "markdown",
      "metadata": {},
      "source": [
        "## Convertendo preços para númerico"
      ]
    },
    {
      "cell_type": "code",
      "execution_count": 18,
      "metadata": {},
      "outputs": [],
      "source": [
        "dados.preco = pd.to_numeric(dados.preco, errors='coerce')"
      ]
    },
    {
      "attachments": {},
      "cell_type": "markdown",
      "metadata": {},
      "source": [
        "## Removendo itens insdisponíveis"
      ]
    },
    {
      "attachments": {},
      "cell_type": "markdown",
      "metadata": {},
      "source": [
        "Em análise dos dados, entendemos que os itens que retornaram indisponíveis da raspagem de dados, não fariam sentido serem expostos ou estarem contidos na base tratada."
      ]
    },
    {
      "cell_type": "code",
      "execution_count": 19,
      "metadata": {},
      "outputs": [
        {
          "data": {
            "text/plain": [
              "nome                    0\n",
              "porcentagem_desconto    0\n",
              "preco                   0\n",
              "tipo                    0\n",
              "dtype: int64"
            ]
          },
          "execution_count": 19,
          "metadata": {},
          "output_type": "execute_result"
        }
      ],
      "source": [
        "dados = dados.dropna()\n",
        "dados.isna().sum()"
      ]
    },
    {
      "attachments": {},
      "cell_type": "markdown",
      "metadata": {},
      "source": [
        "### Transformando o preço para valor monetário"
      ]
    },
    {
      "cell_type": "code",
      "execution_count": 20,
      "metadata": {},
      "outputs": [
        {
          "data": {
            "text/plain": [
              "0     218.99\n",
              "1      37.99\n",
              "2      37.99\n",
              "4      37.99\n",
              "6      37.99\n",
              "       ...  \n",
              "95      8.39\n",
              "96     59.99\n",
              "97     49.99\n",
              "98     70.00\n",
              "99     40.00\n",
              "Name: preco, Length: 93, dtype: float64"
            ]
          },
          "execution_count": 20,
          "metadata": {},
          "output_type": "execute_result"
        }
      ],
      "source": [
        "dados['preco'] = dados['preco'].div(100)\n",
        "dados.preco"
      ]
    },
    {
      "attachments": {},
      "cell_type": "markdown",
      "metadata": {},
      "source": [
        "## Tranformando texto para lower case e criando padrão de uso"
      ]
    },
    {
      "cell_type": "code",
      "execution_count": 21,
      "metadata": {
        "id": "6FNi7ZobUD93"
      },
      "outputs": [],
      "source": [
        "dados.nome = dados.nome.str.lower()\n",
        "dados.tipo = dados.tipo.str.lower()"
      ]
    },
    {
      "attachments": {},
      "cell_type": "markdown",
      "metadata": {},
      "source": [
        "### Resetando index"
      ]
    },
    {
      "cell_type": "code",
      "execution_count": 22,
      "metadata": {},
      "outputs": [
        {
          "data": {
            "text/html": [
              "<div>\n",
              "<style scoped>\n",
              "    .dataframe tbody tr th:only-of-type {\n",
              "        vertical-align: middle;\n",
              "    }\n",
              "\n",
              "    .dataframe tbody tr th {\n",
              "        vertical-align: top;\n",
              "    }\n",
              "\n",
              "    .dataframe thead th {\n",
              "        text-align: right;\n",
              "    }\n",
              "</style>\n",
              "<table border=\"1\" class=\"dataframe\">\n",
              "  <thead>\n",
              "    <tr style=\"text-align: right;\">\n",
              "      <th></th>\n",
              "      <th>nome</th>\n",
              "      <th>porcentagem_desconto</th>\n",
              "      <th>preco</th>\n",
              "      <th>tipo</th>\n",
              "    </tr>\n",
              "  </thead>\n",
              "  <tbody>\n",
              "    <tr>\n",
              "      <th>0</th>\n",
              "      <td>resident evil 4</td>\n",
              "      <td>12</td>\n",
              "      <td>218.99</td>\n",
              "      <td>padrao</td>\n",
              "    </tr>\n",
              "    <tr>\n",
              "      <th>1</th>\n",
              "      <td>star wars empire at war  gold pack</td>\n",
              "      <td>0</td>\n",
              "      <td>37.99</td>\n",
              "      <td>padrao</td>\n",
              "    </tr>\n",
              "    <tr>\n",
              "      <th>2</th>\n",
              "      <td>lego indiana jones the original adventures</td>\n",
              "      <td>0</td>\n",
              "      <td>37.99</td>\n",
              "      <td>padrao</td>\n",
              "    </tr>\n",
              "    <tr>\n",
              "      <th>3</th>\n",
              "      <td>lego indiana jones 2 the adventure continues</td>\n",
              "      <td>0</td>\n",
              "      <td>37.99</td>\n",
              "      <td>padrao</td>\n",
              "    </tr>\n",
              "    <tr>\n",
              "      <th>4</th>\n",
              "      <td>star wars the force unleashed ii</td>\n",
              "      <td>0</td>\n",
              "      <td>37.99</td>\n",
              "      <td>padrao</td>\n",
              "    </tr>\n",
              "    <tr>\n",
              "      <th>...</th>\n",
              "      <td>...</td>\n",
              "      <td>...</td>\n",
              "      <td>...</td>\n",
              "      <td>...</td>\n",
              "    </tr>\n",
              "    <tr>\n",
              "      <th>88</th>\n",
              "      <td>naruto shippuden ultimate ninja storm revolution</td>\n",
              "      <td>85</td>\n",
              "      <td>8.39</td>\n",
              "      <td>padrao</td>\n",
              "    </tr>\n",
              "    <tr>\n",
              "      <th>89</th>\n",
              "      <td>resident evil revelations</td>\n",
              "      <td>0</td>\n",
              "      <td>59.99</td>\n",
              "      <td>padrao</td>\n",
              "    </tr>\n",
              "    <tr>\n",
              "      <th>90</th>\n",
              "      <td>enigma do medo</td>\n",
              "      <td>9</td>\n",
              "      <td>49.99</td>\n",
              "      <td>prevenda</td>\n",
              "    </tr>\n",
              "    <tr>\n",
              "      <th>91</th>\n",
              "      <td>xbox  cartao presente digital 70 reais</td>\n",
              "      <td>0</td>\n",
              "      <td>70.00</td>\n",
              "      <td>padrao</td>\n",
              "    </tr>\n",
              "    <tr>\n",
              "      <th>92</th>\n",
              "      <td>xbox  cartao presente digital 40 reais</td>\n",
              "      <td>0</td>\n",
              "      <td>40.00</td>\n",
              "      <td>padrao</td>\n",
              "    </tr>\n",
              "  </tbody>\n",
              "</table>\n",
              "<p>93 rows × 4 columns</p>\n",
              "</div>"
            ],
            "text/plain": [
              "                                                nome porcentagem_desconto  \\\n",
              "0                                    resident evil 4                   12   \n",
              "1                 star wars empire at war  gold pack                    0   \n",
              "2         lego indiana jones the original adventures                    0   \n",
              "3       lego indiana jones 2 the adventure continues                    0   \n",
              "4                   star wars the force unleashed ii                    0   \n",
              "..                                               ...                  ...   \n",
              "88  naruto shippuden ultimate ninja storm revolution                   85   \n",
              "89                         resident evil revelations                    0   \n",
              "90                                    enigma do medo                    9   \n",
              "91            xbox  cartao presente digital 70 reais                    0   \n",
              "92            xbox  cartao presente digital 40 reais                    0   \n",
              "\n",
              "     preco      tipo  \n",
              "0   218.99    padrao  \n",
              "1    37.99    padrao  \n",
              "2    37.99    padrao  \n",
              "3    37.99    padrao  \n",
              "4    37.99    padrao  \n",
              "..     ...       ...  \n",
              "88    8.39    padrao  \n",
              "89   59.99    padrao  \n",
              "90   49.99  prevenda  \n",
              "91   70.00    padrao  \n",
              "92   40.00    padrao  \n",
              "\n",
              "[93 rows x 4 columns]"
            ]
          },
          "execution_count": 22,
          "metadata": {},
          "output_type": "execute_result"
        }
      ],
      "source": [
        "dados = dados.reset_index(drop=True)\n",
        "dados"
      ]
    },
    {
      "attachments": {},
      "cell_type": "markdown",
      "metadata": {},
      "source": [
        "## Tratamento de Outlier\n",
        "\n",
        "Ao realizar análise dos outlier da base, verificamos que apesar de fora do desvio padrão, estes dados não deveriam ser descartados, uma vez que representam o valor real do item."
      ]
    },
    {
      "cell_type": "code",
      "execution_count": 24,
      "metadata": {},
      "outputs": [
        {
          "data": {
            "application/vnd.plotly.v1+json": {
              "config": {
                "plotlyServerURL": "https://plot.ly"
              },
              "data": [
                {
                  "alignmentgroup": "True",
                  "hovertemplate": "variable=%{x}<br>value=%{y}<extra></extra>",
                  "legendgroup": "",
                  "marker": {
                    "color": "#636efa"
                  },
                  "name": "",
                  "notched": false,
                  "offsetgroup": "",
                  "orientation": "v",
                  "showlegend": false,
                  "type": "box",
                  "x": [
                    "preco",
                    "preco",
                    "preco",
                    "preco",
                    "preco",
                    "preco",
                    "preco",
                    "preco",
                    "preco",
                    "preco",
                    "preco",
                    "preco",
                    "preco",
                    "preco",
                    "preco",
                    "preco",
                    "preco",
                    "preco",
                    "preco",
                    "preco",
                    "preco",
                    "preco",
                    "preco",
                    "preco",
                    "preco",
                    "preco",
                    "preco",
                    "preco",
                    "preco",
                    "preco",
                    "preco",
                    "preco",
                    "preco",
                    "preco",
                    "preco",
                    "preco",
                    "preco",
                    "preco",
                    "preco",
                    "preco",
                    "preco",
                    "preco",
                    "preco",
                    "preco",
                    "preco",
                    "preco",
                    "preco",
                    "preco",
                    "preco",
                    "preco",
                    "preco",
                    "preco",
                    "preco",
                    "preco",
                    "preco",
                    "preco",
                    "preco",
                    "preco",
                    "preco",
                    "preco",
                    "preco",
                    "preco",
                    "preco",
                    "preco",
                    "preco",
                    "preco",
                    "preco",
                    "preco",
                    "preco",
                    "preco",
                    "preco",
                    "preco",
                    "preco",
                    "preco",
                    "preco",
                    "preco",
                    "preco",
                    "preco",
                    "preco",
                    "preco",
                    "preco",
                    "preco",
                    "preco",
                    "preco",
                    "preco",
                    "preco",
                    "preco",
                    "preco",
                    "preco",
                    "preco",
                    "preco",
                    "preco",
                    "preco"
                  ],
                  "x0": " ",
                  "xaxis": "x",
                  "y": [
                    218.99,
                    37.99,
                    37.99,
                    37.99,
                    37.99,
                    19.48,
                    44.99,
                    262.99,
                    37.99,
                    37.99,
                    72.99,
                    72.65,
                    89.99,
                    5.99,
                    36.99,
                    89.99,
                    249.9,
                    50,
                    268.9,
                    28.99,
                    39.99,
                    199.9,
                    39.99,
                    35,
                    44.99,
                    89.99,
                    5,
                    89.99,
                    89.99,
                    129.99,
                    229.99,
                    50,
                    60,
                    89.99,
                    18.89,
                    89.99,
                    32.99,
                    199.9,
                    199.9,
                    199.9,
                    109.99,
                    87.08,
                    223.99,
                    200,
                    22.99,
                    129.99,
                    8.99,
                    39.99,
                    89.99,
                    100,
                    61.5,
                    159.99,
                    169.99,
                    129.99,
                    100,
                    39.99,
                    25,
                    36.99,
                    39.99,
                    69.99,
                    89.99,
                    55.99,
                    199.9,
                    20,
                    254.99,
                    10,
                    11.99,
                    139.9,
                    39.97,
                    89.99,
                    89.99,
                    27.99,
                    28.09,
                    89.99,
                    62.47,
                    89.99,
                    80,
                    27.99,
                    249.99,
                    16.99,
                    20,
                    59.99,
                    59.99,
                    69.99,
                    89.99,
                    129.99,
                    49.99,
                    219.9,
                    8.39,
                    59.99,
                    49.99,
                    70,
                    40
                  ],
                  "y0": " ",
                  "yaxis": "y"
                }
              ],
              "layout": {
                "boxmode": "group",
                "legend": {
                  "tracegroupgap": 0
                },
                "margin": {
                  "t": 60
                },
                "template": {
                  "data": {
                    "bar": [
                      {
                        "error_x": {
                          "color": "#2a3f5f"
                        },
                        "error_y": {
                          "color": "#2a3f5f"
                        },
                        "marker": {
                          "line": {
                            "color": "#E5ECF6",
                            "width": 0.5
                          },
                          "pattern": {
                            "fillmode": "overlay",
                            "size": 10,
                            "solidity": 0.2
                          }
                        },
                        "type": "bar"
                      }
                    ],
                    "barpolar": [
                      {
                        "marker": {
                          "line": {
                            "color": "#E5ECF6",
                            "width": 0.5
                          },
                          "pattern": {
                            "fillmode": "overlay",
                            "size": 10,
                            "solidity": 0.2
                          }
                        },
                        "type": "barpolar"
                      }
                    ],
                    "carpet": [
                      {
                        "aaxis": {
                          "endlinecolor": "#2a3f5f",
                          "gridcolor": "white",
                          "linecolor": "white",
                          "minorgridcolor": "white",
                          "startlinecolor": "#2a3f5f"
                        },
                        "baxis": {
                          "endlinecolor": "#2a3f5f",
                          "gridcolor": "white",
                          "linecolor": "white",
                          "minorgridcolor": "white",
                          "startlinecolor": "#2a3f5f"
                        },
                        "type": "carpet"
                      }
                    ],
                    "choropleth": [
                      {
                        "colorbar": {
                          "outlinewidth": 0,
                          "ticks": ""
                        },
                        "type": "choropleth"
                      }
                    ],
                    "contour": [
                      {
                        "colorbar": {
                          "outlinewidth": 0,
                          "ticks": ""
                        },
                        "colorscale": [
                          [
                            0,
                            "#0d0887"
                          ],
                          [
                            0.1111111111111111,
                            "#46039f"
                          ],
                          [
                            0.2222222222222222,
                            "#7201a8"
                          ],
                          [
                            0.3333333333333333,
                            "#9c179e"
                          ],
                          [
                            0.4444444444444444,
                            "#bd3786"
                          ],
                          [
                            0.5555555555555556,
                            "#d8576b"
                          ],
                          [
                            0.6666666666666666,
                            "#ed7953"
                          ],
                          [
                            0.7777777777777778,
                            "#fb9f3a"
                          ],
                          [
                            0.8888888888888888,
                            "#fdca26"
                          ],
                          [
                            1,
                            "#f0f921"
                          ]
                        ],
                        "type": "contour"
                      }
                    ],
                    "contourcarpet": [
                      {
                        "colorbar": {
                          "outlinewidth": 0,
                          "ticks": ""
                        },
                        "type": "contourcarpet"
                      }
                    ],
                    "heatmap": [
                      {
                        "colorbar": {
                          "outlinewidth": 0,
                          "ticks": ""
                        },
                        "colorscale": [
                          [
                            0,
                            "#0d0887"
                          ],
                          [
                            0.1111111111111111,
                            "#46039f"
                          ],
                          [
                            0.2222222222222222,
                            "#7201a8"
                          ],
                          [
                            0.3333333333333333,
                            "#9c179e"
                          ],
                          [
                            0.4444444444444444,
                            "#bd3786"
                          ],
                          [
                            0.5555555555555556,
                            "#d8576b"
                          ],
                          [
                            0.6666666666666666,
                            "#ed7953"
                          ],
                          [
                            0.7777777777777778,
                            "#fb9f3a"
                          ],
                          [
                            0.8888888888888888,
                            "#fdca26"
                          ],
                          [
                            1,
                            "#f0f921"
                          ]
                        ],
                        "type": "heatmap"
                      }
                    ],
                    "heatmapgl": [
                      {
                        "colorbar": {
                          "outlinewidth": 0,
                          "ticks": ""
                        },
                        "colorscale": [
                          [
                            0,
                            "#0d0887"
                          ],
                          [
                            0.1111111111111111,
                            "#46039f"
                          ],
                          [
                            0.2222222222222222,
                            "#7201a8"
                          ],
                          [
                            0.3333333333333333,
                            "#9c179e"
                          ],
                          [
                            0.4444444444444444,
                            "#bd3786"
                          ],
                          [
                            0.5555555555555556,
                            "#d8576b"
                          ],
                          [
                            0.6666666666666666,
                            "#ed7953"
                          ],
                          [
                            0.7777777777777778,
                            "#fb9f3a"
                          ],
                          [
                            0.8888888888888888,
                            "#fdca26"
                          ],
                          [
                            1,
                            "#f0f921"
                          ]
                        ],
                        "type": "heatmapgl"
                      }
                    ],
                    "histogram": [
                      {
                        "marker": {
                          "pattern": {
                            "fillmode": "overlay",
                            "size": 10,
                            "solidity": 0.2
                          }
                        },
                        "type": "histogram"
                      }
                    ],
                    "histogram2d": [
                      {
                        "colorbar": {
                          "outlinewidth": 0,
                          "ticks": ""
                        },
                        "colorscale": [
                          [
                            0,
                            "#0d0887"
                          ],
                          [
                            0.1111111111111111,
                            "#46039f"
                          ],
                          [
                            0.2222222222222222,
                            "#7201a8"
                          ],
                          [
                            0.3333333333333333,
                            "#9c179e"
                          ],
                          [
                            0.4444444444444444,
                            "#bd3786"
                          ],
                          [
                            0.5555555555555556,
                            "#d8576b"
                          ],
                          [
                            0.6666666666666666,
                            "#ed7953"
                          ],
                          [
                            0.7777777777777778,
                            "#fb9f3a"
                          ],
                          [
                            0.8888888888888888,
                            "#fdca26"
                          ],
                          [
                            1,
                            "#f0f921"
                          ]
                        ],
                        "type": "histogram2d"
                      }
                    ],
                    "histogram2dcontour": [
                      {
                        "colorbar": {
                          "outlinewidth": 0,
                          "ticks": ""
                        },
                        "colorscale": [
                          [
                            0,
                            "#0d0887"
                          ],
                          [
                            0.1111111111111111,
                            "#46039f"
                          ],
                          [
                            0.2222222222222222,
                            "#7201a8"
                          ],
                          [
                            0.3333333333333333,
                            "#9c179e"
                          ],
                          [
                            0.4444444444444444,
                            "#bd3786"
                          ],
                          [
                            0.5555555555555556,
                            "#d8576b"
                          ],
                          [
                            0.6666666666666666,
                            "#ed7953"
                          ],
                          [
                            0.7777777777777778,
                            "#fb9f3a"
                          ],
                          [
                            0.8888888888888888,
                            "#fdca26"
                          ],
                          [
                            1,
                            "#f0f921"
                          ]
                        ],
                        "type": "histogram2dcontour"
                      }
                    ],
                    "mesh3d": [
                      {
                        "colorbar": {
                          "outlinewidth": 0,
                          "ticks": ""
                        },
                        "type": "mesh3d"
                      }
                    ],
                    "parcoords": [
                      {
                        "line": {
                          "colorbar": {
                            "outlinewidth": 0,
                            "ticks": ""
                          }
                        },
                        "type": "parcoords"
                      }
                    ],
                    "pie": [
                      {
                        "automargin": true,
                        "type": "pie"
                      }
                    ],
                    "scatter": [
                      {
                        "fillpattern": {
                          "fillmode": "overlay",
                          "size": 10,
                          "solidity": 0.2
                        },
                        "type": "scatter"
                      }
                    ],
                    "scatter3d": [
                      {
                        "line": {
                          "colorbar": {
                            "outlinewidth": 0,
                            "ticks": ""
                          }
                        },
                        "marker": {
                          "colorbar": {
                            "outlinewidth": 0,
                            "ticks": ""
                          }
                        },
                        "type": "scatter3d"
                      }
                    ],
                    "scattercarpet": [
                      {
                        "marker": {
                          "colorbar": {
                            "outlinewidth": 0,
                            "ticks": ""
                          }
                        },
                        "type": "scattercarpet"
                      }
                    ],
                    "scattergeo": [
                      {
                        "marker": {
                          "colorbar": {
                            "outlinewidth": 0,
                            "ticks": ""
                          }
                        },
                        "type": "scattergeo"
                      }
                    ],
                    "scattergl": [
                      {
                        "marker": {
                          "colorbar": {
                            "outlinewidth": 0,
                            "ticks": ""
                          }
                        },
                        "type": "scattergl"
                      }
                    ],
                    "scattermapbox": [
                      {
                        "marker": {
                          "colorbar": {
                            "outlinewidth": 0,
                            "ticks": ""
                          }
                        },
                        "type": "scattermapbox"
                      }
                    ],
                    "scatterpolar": [
                      {
                        "marker": {
                          "colorbar": {
                            "outlinewidth": 0,
                            "ticks": ""
                          }
                        },
                        "type": "scatterpolar"
                      }
                    ],
                    "scatterpolargl": [
                      {
                        "marker": {
                          "colorbar": {
                            "outlinewidth": 0,
                            "ticks": ""
                          }
                        },
                        "type": "scatterpolargl"
                      }
                    ],
                    "scatterternary": [
                      {
                        "marker": {
                          "colorbar": {
                            "outlinewidth": 0,
                            "ticks": ""
                          }
                        },
                        "type": "scatterternary"
                      }
                    ],
                    "surface": [
                      {
                        "colorbar": {
                          "outlinewidth": 0,
                          "ticks": ""
                        },
                        "colorscale": [
                          [
                            0,
                            "#0d0887"
                          ],
                          [
                            0.1111111111111111,
                            "#46039f"
                          ],
                          [
                            0.2222222222222222,
                            "#7201a8"
                          ],
                          [
                            0.3333333333333333,
                            "#9c179e"
                          ],
                          [
                            0.4444444444444444,
                            "#bd3786"
                          ],
                          [
                            0.5555555555555556,
                            "#d8576b"
                          ],
                          [
                            0.6666666666666666,
                            "#ed7953"
                          ],
                          [
                            0.7777777777777778,
                            "#fb9f3a"
                          ],
                          [
                            0.8888888888888888,
                            "#fdca26"
                          ],
                          [
                            1,
                            "#f0f921"
                          ]
                        ],
                        "type": "surface"
                      }
                    ],
                    "table": [
                      {
                        "cells": {
                          "fill": {
                            "color": "#EBF0F8"
                          },
                          "line": {
                            "color": "white"
                          }
                        },
                        "header": {
                          "fill": {
                            "color": "#C8D4E3"
                          },
                          "line": {
                            "color": "white"
                          }
                        },
                        "type": "table"
                      }
                    ]
                  },
                  "layout": {
                    "annotationdefaults": {
                      "arrowcolor": "#2a3f5f",
                      "arrowhead": 0,
                      "arrowwidth": 1
                    },
                    "autotypenumbers": "strict",
                    "coloraxis": {
                      "colorbar": {
                        "outlinewidth": 0,
                        "ticks": ""
                      }
                    },
                    "colorscale": {
                      "diverging": [
                        [
                          0,
                          "#8e0152"
                        ],
                        [
                          0.1,
                          "#c51b7d"
                        ],
                        [
                          0.2,
                          "#de77ae"
                        ],
                        [
                          0.3,
                          "#f1b6da"
                        ],
                        [
                          0.4,
                          "#fde0ef"
                        ],
                        [
                          0.5,
                          "#f7f7f7"
                        ],
                        [
                          0.6,
                          "#e6f5d0"
                        ],
                        [
                          0.7,
                          "#b8e186"
                        ],
                        [
                          0.8,
                          "#7fbc41"
                        ],
                        [
                          0.9,
                          "#4d9221"
                        ],
                        [
                          1,
                          "#276419"
                        ]
                      ],
                      "sequential": [
                        [
                          0,
                          "#0d0887"
                        ],
                        [
                          0.1111111111111111,
                          "#46039f"
                        ],
                        [
                          0.2222222222222222,
                          "#7201a8"
                        ],
                        [
                          0.3333333333333333,
                          "#9c179e"
                        ],
                        [
                          0.4444444444444444,
                          "#bd3786"
                        ],
                        [
                          0.5555555555555556,
                          "#d8576b"
                        ],
                        [
                          0.6666666666666666,
                          "#ed7953"
                        ],
                        [
                          0.7777777777777778,
                          "#fb9f3a"
                        ],
                        [
                          0.8888888888888888,
                          "#fdca26"
                        ],
                        [
                          1,
                          "#f0f921"
                        ]
                      ],
                      "sequentialminus": [
                        [
                          0,
                          "#0d0887"
                        ],
                        [
                          0.1111111111111111,
                          "#46039f"
                        ],
                        [
                          0.2222222222222222,
                          "#7201a8"
                        ],
                        [
                          0.3333333333333333,
                          "#9c179e"
                        ],
                        [
                          0.4444444444444444,
                          "#bd3786"
                        ],
                        [
                          0.5555555555555556,
                          "#d8576b"
                        ],
                        [
                          0.6666666666666666,
                          "#ed7953"
                        ],
                        [
                          0.7777777777777778,
                          "#fb9f3a"
                        ],
                        [
                          0.8888888888888888,
                          "#fdca26"
                        ],
                        [
                          1,
                          "#f0f921"
                        ]
                      ]
                    },
                    "colorway": [
                      "#636efa",
                      "#EF553B",
                      "#00cc96",
                      "#ab63fa",
                      "#FFA15A",
                      "#19d3f3",
                      "#FF6692",
                      "#B6E880",
                      "#FF97FF",
                      "#FECB52"
                    ],
                    "font": {
                      "color": "#2a3f5f"
                    },
                    "geo": {
                      "bgcolor": "white",
                      "lakecolor": "white",
                      "landcolor": "#E5ECF6",
                      "showlakes": true,
                      "showland": true,
                      "subunitcolor": "white"
                    },
                    "hoverlabel": {
                      "align": "left"
                    },
                    "hovermode": "closest",
                    "mapbox": {
                      "style": "light"
                    },
                    "paper_bgcolor": "white",
                    "plot_bgcolor": "#E5ECF6",
                    "polar": {
                      "angularaxis": {
                        "gridcolor": "white",
                        "linecolor": "white",
                        "ticks": ""
                      },
                      "bgcolor": "#E5ECF6",
                      "radialaxis": {
                        "gridcolor": "white",
                        "linecolor": "white",
                        "ticks": ""
                      }
                    },
                    "scene": {
                      "xaxis": {
                        "backgroundcolor": "#E5ECF6",
                        "gridcolor": "white",
                        "gridwidth": 2,
                        "linecolor": "white",
                        "showbackground": true,
                        "ticks": "",
                        "zerolinecolor": "white"
                      },
                      "yaxis": {
                        "backgroundcolor": "#E5ECF6",
                        "gridcolor": "white",
                        "gridwidth": 2,
                        "linecolor": "white",
                        "showbackground": true,
                        "ticks": "",
                        "zerolinecolor": "white"
                      },
                      "zaxis": {
                        "backgroundcolor": "#E5ECF6",
                        "gridcolor": "white",
                        "gridwidth": 2,
                        "linecolor": "white",
                        "showbackground": true,
                        "ticks": "",
                        "zerolinecolor": "white"
                      }
                    },
                    "shapedefaults": {
                      "line": {
                        "color": "#2a3f5f"
                      }
                    },
                    "ternary": {
                      "aaxis": {
                        "gridcolor": "white",
                        "linecolor": "white",
                        "ticks": ""
                      },
                      "baxis": {
                        "gridcolor": "white",
                        "linecolor": "white",
                        "ticks": ""
                      },
                      "bgcolor": "#E5ECF6",
                      "caxis": {
                        "gridcolor": "white",
                        "linecolor": "white",
                        "ticks": ""
                      }
                    },
                    "title": {
                      "x": 0.05
                    },
                    "xaxis": {
                      "automargin": true,
                      "gridcolor": "white",
                      "linecolor": "white",
                      "ticks": "",
                      "title": {
                        "standoff": 15
                      },
                      "zerolinecolor": "white",
                      "zerolinewidth": 2
                    },
                    "yaxis": {
                      "automargin": true,
                      "gridcolor": "white",
                      "linecolor": "white",
                      "ticks": "",
                      "title": {
                        "standoff": 15
                      },
                      "zerolinecolor": "white",
                      "zerolinewidth": 2
                    }
                  }
                },
                "xaxis": {
                  "anchor": "y",
                  "domain": [
                    0,
                    1
                  ],
                  "title": {
                    "text": "variable"
                  }
                },
                "yaxis": {
                  "anchor": "x",
                  "domain": [
                    0,
                    1
                  ],
                  "title": {
                    "text": "value"
                  }
                }
              }
            }
          },
          "metadata": {},
          "output_type": "display_data"
        }
      ],
      "source": [
        "px.box(dados.preco)"
      ]
    }
  ],
  "metadata": {
    "colab": {
      "provenance": []
    },
    "kernelspec": {
      "display_name": "Python 3.9.0 64-bit",
      "language": "python",
      "name": "python3"
    },
    "language_info": {
      "codemirror_mode": {
        "name": "ipython",
        "version": 3
      },
      "file_extension": ".py",
      "mimetype": "text/x-python",
      "name": "python",
      "nbconvert_exporter": "python",
      "pygments_lexer": "ipython3",
      "version": "3.11.2"
    },
    "orig_nbformat": 4,
    "vscode": {
      "interpreter": {
        "hash": "9b16fe64e235b62e0f32637134c1c3ea29b3eadaef70f7339a05a72ed13b4b69"
      }
    }
  },
  "nbformat": 4,
  "nbformat_minor": 0
}
